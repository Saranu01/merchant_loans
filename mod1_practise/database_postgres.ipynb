{
 "cells": [
  {
   "cell_type": "markdown",
   "metadata": {},
   "source": [
    "Importing Modules\n",
    "\n",
    "Python modules are files containing Python code (functions, variables, classes). Modules can be built-in, third-party, or user-defined."
   ]
  },
  {
   "cell_type": "code",
   "execution_count": 30,
   "metadata": {},
   "outputs": [
    {
     "name": "stdout",
     "output_type": "stream",
     "text": [
      "4.0\n",
      "3.141592653589793\n",
      "False\n",
      "False\n",
      "['/opt/homebrew/Cellar/python@3.11/3.11.11/Frameworks/Python.framework/Versions/3.11/lib/python311.zip', '/opt/homebrew/Cellar/python@3.11/3.11.11/Frameworks/Python.framework/Versions/3.11/lib/python3.11', '/opt/homebrew/Cellar/python@3.11/3.11.11/Frameworks/Python.framework/Versions/3.11/lib/python3.11/lib-dynload', '', '/Users/gopikrishnapinninti/Library/Python/3.11/lib/python/site-packages', '/opt/homebrew/lib/python3.11/site-packages']\n"
     ]
    }
   ],
   "source": [
    "import math\n",
    "print(math.sqrt(16))\n",
    "\n",
    "\n",
    "from math import pi\n",
    "print(pi)\n",
    "\n",
    "import os\n",
    "print(os.path.isdir('new_folder'))\n",
    "\n",
    "print(os.path.exists(os.path.join(os.getcwd(), 'new_folder', 'file.txt')))\n",
    "\n",
    "import sys\n",
    "print(sys.path)"
   ]
  },
  {
   "cell_type": "markdown",
   "metadata": {},
   "source": [
    "Creating and Importing a Custom Module\n",
    "\n",
    "Create a Python file users.py:"
   ]
  },
  {
   "cell_type": "code",
   "execution_count": 12,
   "metadata": {},
   "outputs": [
    {
     "name": "stdout",
     "output_type": "stream",
     "text": [
      "Hello, AITraining!\n"
     ]
    }
   ],
   "source": [
    "import members\n",
    "print(members.greet(\"AITraining\"))"
   ]
  },
  {
   "cell_type": "markdown",
   "metadata": {},
   "source": [
    "Installing Third-Party Modules\n",
    "\n",
    "Python provides thousands of modules via pip:"
   ]
  },
  {
   "cell_type": "code",
   "execution_count": 4,
   "metadata": {},
   "outputs": [
    {
     "name": "stdout",
     "output_type": "stream",
     "text": [
      "Requirement already satisfied: psycopg2-binary in /opt/homebrew/lib/python3.11/site-packages (2.9.10)\n",
      "\n",
      "\u001b[1m[\u001b[0m\u001b[34;49mnotice\u001b[0m\u001b[1;39;49m]\u001b[0m\u001b[39;49m A new release of pip is available: \u001b[0m\u001b[31;49m24.3.1\u001b[0m\u001b[39;49m -> \u001b[0m\u001b[32;49m25.0\u001b[0m\n",
      "\u001b[1m[\u001b[0m\u001b[34;49mnotice\u001b[0m\u001b[1;39;49m]\u001b[0m\u001b[39;49m To update, run: \u001b[0m\u001b[32;49mpython3.11 -m pip install --upgrade pip\u001b[0m\n",
      "Note: you may need to restart the kernel to use updated packages.\n",
      "Requirement already satisfied: sqlalchemy in /opt/homebrew/lib/python3.11/site-packages (2.0.37)\n",
      "Requirement already satisfied: typing-extensions>=4.6.0 in /Users/gopikrishnapinninti/Library/Python/3.11/lib/python/site-packages (from sqlalchemy) (4.12.2)\n",
      "\n",
      "\u001b[1m[\u001b[0m\u001b[34;49mnotice\u001b[0m\u001b[1;39;49m]\u001b[0m\u001b[39;49m A new release of pip is available: \u001b[0m\u001b[31;49m24.3.1\u001b[0m\u001b[39;49m -> \u001b[0m\u001b[32;49m25.0\u001b[0m\n",
      "\u001b[1m[\u001b[0m\u001b[34;49mnotice\u001b[0m\u001b[1;39;49m]\u001b[0m\u001b[39;49m To update, run: \u001b[0m\u001b[32;49mpython3.11 -m pip install --upgrade pip\u001b[0m\n",
      "Note: you may need to restart the kernel to use updated packages.\n"
     ]
    }
   ],
   "source": [
    "%pip install psycopg2-binary\n",
    "#%pip install psycopg2\n",
    "%pip install sqlalchemy\n",
    "#%pip install mysql_connector_python\n",
    "#%pip install mysqlclient"
   ]
  },
  {
   "cell_type": "markdown",
   "metadata": {},
   "source": [
    "Establishing a Database Connection\n",
    "\n",
    "To connect Python to PostgreSQL, use the connect() method from the psycopg2 library:"
   ]
  },
  {
   "cell_type": "code",
   "execution_count": 31,
   "metadata": {},
   "outputs": [],
   "source": [
    "import configparser\n",
    "# Initialize the config parser\n",
    "config = configparser.ConfigParser()\n",
    "config.read('credentials.cfg')\n",
    "import os\n",
    "from dotenv import load_dotenv"
   ]
  },
  {
   "cell_type": "code",
   "execution_count": 32,
   "metadata": {},
   "outputs": [
    {
     "name": "stdout",
     "output_type": "stream",
     "text": [
      "Database connection successful!\n",
      "PostgreSQL version: ('PostgreSQL 15.10 on x86_64-pc-linux-gnu, compiled by gcc (Debian 10.2.1-6) 10.2.1 20210110, 64-bit',)\n",
      "Database connection closed.\n"
     ]
    }
   ],
   "source": [
    "import psycopg2\n",
    "\n",
    "# Database connection details\n",
    "# Default PostgreSQL port\n",
    "# Establishing the connection\n",
    "try:\n",
    "    connection = psycopg2.connect(\n",
    "        dbname=config['postgres']['DB_NAME'],\n",
    "        user=config['postgres']['DB_USER'],\n",
    "        password=config['postgres']['DB_PASSWORD'],\n",
    "        host=config['postgres']['DB_HOST'],\n",
    "        port=config['postgres']['DB_PORT'],\n",
    "        sslmode=\"require\"\n",
    "    )\n",
    "    print(\"Database connection successful!\")\n",
    "except Exception as e:\n",
    "    print(\"Error connecting to the database:\", e)\n",
    "\n",
    "#2.3 Creating a Cursor Object and Executing Queries\n",
    "#Once connected, a cursor object is used to execute SQL queries:\n",
    "\n",
    "cursor = connection.cursor()\n",
    "cursor.execute(\"SELECT version();\")\n",
    "print(\"PostgreSQL version:\", cursor.fetchone())\n",
    "\n",
    "#2.4 Closing the Connection\n",
    "#After performing database operations, always close the connection:\n",
    "cursor.close()\n",
    "connection.close()\n",
    "print(\"Database connection closed.\")"
   ]
  },
  {
   "cell_type": "code",
   "execution_count": 33,
   "metadata": {},
   "outputs": [
    {
     "name": "stdout",
     "output_type": "stream",
     "text": [
      "Database connection successful!\n",
      "Database connection successful!\n",
      "Table created successfully!\n",
      "Table created successfully!\n",
      "Table created successfully!\n",
      "(1, 'raj', 'new', 'one@gmail.com', None, None, datetime.datetime(2025, 2, 10, 21, 23, 13, 804506))\n",
      "1\n",
      "(2, 'one', 'test', 'onea@gmail.com', None, None, datetime.datetime(2025, 2, 10, 21, 25, 51, 221159))\n",
      "2\n",
      "(3, 'test', 'lna', 'oneb@gmail.com', None, None, datetime.datetime(2025, 2, 10, 21, 34, 51, 620334))\n",
      "3\n",
      "(5, 'one', 'onel', 'oned@gmail.com', None, None, datetime.datetime(2025, 2, 10, 21, 37, 41, 883804))\n",
      "5\n",
      "(2, 'one', 'test', 'onea@gmail.com', None, None, datetime.datetime(2025, 2, 10, 21, 25, 51, 221159))\n",
      "2\n"
     ]
    },
    {
     "data": {
      "text/plain": [
       "[(2,\n",
       "  'one',\n",
       "  'test',\n",
       "  'onea@gmail.com',\n",
       "  None,\n",
       "  None,\n",
       "  datetime.datetime(2025, 2, 10, 21, 25, 51, 221159))]"
      ]
     },
     "execution_count": 33,
     "metadata": {},
     "output_type": "execute_result"
    }
   ],
   "source": [
    "from manage_tables import create_table\n",
    "\n",
    "from members import create_member, retrieve_members, update_member, delete_member\n",
    "from transactions import create_transaction, retrieve_transactions\n",
    "try:\n",
    "    \n",
    "    connection = psycopg2.connect(\n",
    "            dbname=config['postgres']['DB_NAME'],\n",
    "            user=config['postgres']['DB_USER'],\n",
    "            password=config['postgres']['DB_PASSWORD'],\n",
    "            host=config['postgres']['DB_HOST'],\n",
    "            port=config['postgres']['DB_PORT'],\n",
    "            sslmode= 'require'\n",
    "        )\n",
    "    print(\"Database connection successful!\")\n",
    "    print(\"Database connection successful!\")\n",
    "except Exception as e:\n",
    "    print(\"Error connecting to the database:\", e)\n",
    "\n",
    "create_table(connection = connection, table_name=\"members\")\n",
    "\n",
    "create_table( table_name=\"members\", connection = connection)\n",
    "\n",
    "create_table(connection, \"transactions\")\n",
    "\n",
    "retrieve_members(connection)\n",
    "retrieve_members(connection = connection, email= 'onea@gmail.com')\n",
    "#create_table(\"accounts\", connection) # valid or invalid? #run is not successful"
   ]
  },
  {
   "cell_type": "code",
   "execution_count": 19,
   "metadata": {},
   "outputs": [
    {
     "name": "stdout",
     "output_type": "stream",
     "text": [
      "(2, 'one', 'test', 'onea@gmail.com', None, None, datetime.datetime(2025, 2, 10, 21, 25, 51, 221159))\n",
      "2\n",
      "Record inserted successfully!: 3\n"
     ]
    }
   ],
   "source": [
    "first_name = input(\"Enter first name of the member\")\n",
    "last_name = input(\"Enter last name of the member\")\n",
    "email = input(\"ENter email of the member\")\n",
    "amount = input(\"Please enter amount of the transaction\")\n",
    "desc = input(\"Please enter description of the transcation\")\n",
    "\n",
    "connection = psycopg2.connect(\n",
    "            dbname=config['postgres']['DB_NAME'],\n",
    "            user=config['postgres']['DB_USER'],\n",
    "            password=config['postgres']['DB_PASSWORD'],\n",
    "            host=config['postgres']['DB_HOST'],\n",
    "            port=config['postgres']['DB_PORT'],\n",
    "            sslmode= 'require'\n",
    "        )\n",
    "results = retrieve_members(connection = connection, email= email)\n",
    "if(results is None):\n",
    "    member_id = create_member(connection, first_name, last_name, email)\n",
    "else:\n",
    "    member_id=results[0][0]\n",
    "member_id = create_transaction(connection=connection, member_id= member_id, amount= amount, description= desc)"
   ]
  },
  {
   "cell_type": "code",
   "execution_count": 21,
   "metadata": {},
   "outputs": [
    {
     "name": "stdout",
     "output_type": "stream",
     "text": [
      "(2, 'one', 'test', 'onea@gmail.com', None, None, datetime.datetime(2025, 2, 10, 21, 25, 51, 221159))\n",
      "2\n",
      "(3, 2, datetime.datetime(2025, 2, 10, 23, 58, 51, 923287), Decimal('30.00'), 'withdrawal', 'food')\n",
      "(2, 2, datetime.datetime(2025, 2, 10, 21, 44, 1, 62667), Decimal('10.00'), 'withdrawal', 'movie')\n"
     ]
    }
   ],
   "source": [
    "email = input(\"Please enter members email\")\n",
    "\n",
    "results = retrieve_members(connection = connection, email= email)\n",
    "if(results is None):\n",
    "    print(\"no member matched\")\n",
    "else:\n",
    "    member_id=results[0][0]\n",
    "transactions = retrieve_transactions(connection=connection, member_id=member_id)"
   ]
  },
  {
   "cell_type": "code",
   "execution_count": 34,
   "metadata": {},
   "outputs": [
    {
     "name": "stdout",
     "output_type": "stream",
     "text": [
      "Requirement already satisfied: openai in /opt/homebrew/lib/python3.11/site-packages (1.61.1)\n",
      "Requirement already satisfied: anyio<5,>=3.5.0 in /opt/homebrew/lib/python3.11/site-packages (from openai) (4.8.0)\n",
      "Requirement already satisfied: distro<2,>=1.7.0 in /opt/homebrew/lib/python3.11/site-packages (from openai) (1.9.0)\n",
      "Requirement already satisfied: httpx<1,>=0.23.0 in /opt/homebrew/lib/python3.11/site-packages (from openai) (0.28.1)\n",
      "Requirement already satisfied: jiter<1,>=0.4.0 in /opt/homebrew/lib/python3.11/site-packages (from openai) (0.8.2)\n",
      "Requirement already satisfied: pydantic<3,>=1.9.0 in /opt/homebrew/lib/python3.11/site-packages (from openai) (2.10.6)\n",
      "Requirement already satisfied: sniffio in /opt/homebrew/lib/python3.11/site-packages (from openai) (1.3.1)\n",
      "Requirement already satisfied: tqdm>4 in /opt/homebrew/lib/python3.11/site-packages (from openai) (4.67.1)\n",
      "Requirement already satisfied: typing-extensions<5,>=4.11 in /Users/gopikrishnapinninti/Library/Python/3.11/lib/python/site-packages (from openai) (4.12.2)\n",
      "Requirement already satisfied: idna>=2.8 in /opt/homebrew/lib/python3.11/site-packages (from anyio<5,>=3.5.0->openai) (3.10)\n",
      "Requirement already satisfied: certifi in /opt/homebrew/lib/python3.11/site-packages (from httpx<1,>=0.23.0->openai) (2025.1.31)\n",
      "Requirement already satisfied: httpcore==1.* in /opt/homebrew/lib/python3.11/site-packages (from httpx<1,>=0.23.0->openai) (1.0.7)\n",
      "Requirement already satisfied: h11<0.15,>=0.13 in /opt/homebrew/lib/python3.11/site-packages (from httpcore==1.*->httpx<1,>=0.23.0->openai) (0.14.0)\n",
      "Requirement already satisfied: annotated-types>=0.6.0 in /opt/homebrew/lib/python3.11/site-packages (from pydantic<3,>=1.9.0->openai) (0.7.0)\n",
      "Requirement already satisfied: pydantic-core==2.27.2 in /opt/homebrew/lib/python3.11/site-packages (from pydantic<3,>=1.9.0->openai) (2.27.2)\n",
      "\n",
      "\u001b[1m[\u001b[0m\u001b[34;49mnotice\u001b[0m\u001b[1;39;49m]\u001b[0m\u001b[39;49m A new release of pip is available: \u001b[0m\u001b[31;49m24.3.1\u001b[0m\u001b[39;49m -> \u001b[0m\u001b[32;49m25.0\u001b[0m\n",
      "\u001b[1m[\u001b[0m\u001b[34;49mnotice\u001b[0m\u001b[1;39;49m]\u001b[0m\u001b[39;49m To update, run: \u001b[0m\u001b[32;49mpython3.11 -m pip install --upgrade pip\u001b[0m\n",
      "Note: you may need to restart the kernel to use updated packages.\n",
      "env: OPENAI_API_KEY=test\n"
     ]
    }
   ],
   "source": [
    "%pip install openai\n",
    "%env OPENAI_API_KEY=test"
   ]
  },
  {
   "cell_type": "code",
   "execution_count": 29,
   "metadata": {},
   "outputs": [
    {
     "name": "stdout",
     "output_type": "stream",
     "text": [
      "Hello Gopi, how can I assist you today with your transaction details? \n",
      "\n",
      "It looks like you have two transactions on February 10, 2025:\n",
      "\n",
      "1. **Transaction 1:**\n",
      "   - **Description:** [Description not specified]\n",
      "   - **Date:** February 10, 2025\n",
      "   - **Time:** 11:58:51 PM\n",
      "\n",
      "2. **Transaction 2:**\n",
      "   - **Description:** [Description not specified]\n",
      "   - **Date:** February 10, 2025\n",
      "   - **Time:** 9:44:01 PM\n",
      "\n",
      "Please provide me with the specific details you'd like to know about these transactions or any other assistance you require!\n"
     ]
    },
    {
     "data": {
      "text/plain": [
       "\"Hello Gopi, how can I assist you today with your transaction details? \\n\\nIt looks like you have two transactions on February 10, 2025:\\n\\n1. **Transaction 1:**\\n   - **Description:** [Description not specified]\\n   - **Date:** February 10, 2025\\n   - **Time:** 11:58:51 PM\\n\\n2. **Transaction 2:**\\n   - **Description:** [Description not specified]\\n   - **Date:** February 10, 2025\\n   - **Time:** 9:44:01 PM\\n\\nPlease provide me with the specific details you'd like to know about these transactions or any other assistance you require!\""
      ]
     },
     "execution_count": 29,
     "metadata": {},
     "output_type": "execute_result"
    }
   ],
   "source": [
    "formatted_transactions = []\n",
    "for trans in transactions:\n",
    "    new_trans = {\"amount\":trans[3], \"desc\": trans[5], \"datetrans\": trans[2]}\n",
    "    formatted_transactions.append(trans)\n",
    "\n",
    "                \n",
    "from chatgpt_api import summarize_assistant\n",
    "\n",
    "summarize_assistant(\"gopi\", \"test\", formatted_transactions)"
   ]
  },
  {
   "cell_type": "code",
   "execution_count": 28,
   "metadata": {},
   "outputs": [
    {
     "name": "stdout",
     "output_type": "stream",
     "text": [
      "I'm sorry, but I don't have access to real-time data or updates beyond October 2023. Therefore, I cannot provide information on the winner of the Super Bowl in 2025. For the latest sports news, please check a reliable sports news website or search engine.\n"
     ]
    },
    {
     "data": {
      "text/plain": [
       "\"I'm sorry, but I don't have access to real-time data or updates beyond October 2023. Therefore, I cannot provide information on the winner of the Super Bowl in 2025. For the latest sports news, please check a reliable sports news website or search engine.\""
      ]
     },
     "execution_count": 28,
     "metadata": {},
     "output_type": "execute_result"
    }
   ],
   "source": [
    "from openai import OpenAI\n",
    "\n",
    "def qa_responder(question):\n",
    "    #step 2\n",
    "    client = OpenAI()    \n",
    "    \n",
    "    #step 3\n",
    "    #You are wikipedia assistant and answer my questions with facts.\n",
    "    completion = client.chat.completions.create(\n",
    "        model=\"gpt-4o-mini\",\n",
    "        messages=[\n",
    "            {\"role\": \"system\", \"content\": \"You are news summarizer that can look the latest news in google or other sources.\"},\n",
    "            {\n",
    "                \"role\": \"user\",\n",
    "                \"content\": question\n",
    "            }\n",
    "        ]\n",
    "    )\n",
    "\n",
    "\n",
    "    print(completion.choices[0].message.content)\n",
    "    return completion.choices[0].message.content\n",
    "\n",
    "question = input(\"enter any question\")\n",
    "qa_responder(question)"
   ]
  },
  {
   "cell_type": "code",
   "execution_count": 11,
   "metadata": {},
   "outputs": [
    {
     "name": "stdout",
     "output_type": "stream",
     "text": [
      "(4, 'kumar', 'new', None, 'male')\n",
      "(5, 'demofirst', 'demolast', None, 'na')\n"
     ]
    }
   ],
   "source": [
    "retrieve_members(connection)\n",
    "#retrieve_members(connection, 1)\n",
    "\n",
    "#retrieve_members(member_id=\"5\", connection=connection)\n",
    "\n",
    "#retrieve_members(member_id=5, connection=connection)\n",
    "\n",
    "#retrieve_members(member_id=1, connection=connection)"
   ]
  },
  {
   "cell_type": "code",
   "execution_count": 9,
   "metadata": {},
   "outputs": [
    {
     "name": "stdout",
     "output_type": "stream",
     "text": [
      "Record updated successfully!\n",
      "updated data\n",
      "(1, 'Raj', 'updatedjackson', None, '{gender}')\n"
     ]
    }
   ],
   "source": [
    "update_member(connection, 1, \"Raj\", \"updatedjackson\")"
   ]
  },
  {
   "cell_type": "code",
   "execution_count": 10,
   "metadata": {},
   "outputs": [
    {
     "name": "stdout",
     "output_type": "stream",
     "text": [
      "Record deleted successfully!\n"
     ]
    }
   ],
   "source": [
    "delete_member(connection, 1)"
   ]
  }
 ],
 "metadata": {
  "kernelspec": {
   "display_name": "Python 3",
   "language": "python",
   "name": "python3"
  },
  "language_info": {
   "codemirror_mode": {
    "name": "ipython",
    "version": 3
   },
   "file_extension": ".py",
   "mimetype": "text/x-python",
   "name": "python",
   "nbconvert_exporter": "python",
   "pygments_lexer": "ipython3",
   "version": "3.11.11"
  }
 },
 "nbformat": 4,
 "nbformat_minor": 2
}
